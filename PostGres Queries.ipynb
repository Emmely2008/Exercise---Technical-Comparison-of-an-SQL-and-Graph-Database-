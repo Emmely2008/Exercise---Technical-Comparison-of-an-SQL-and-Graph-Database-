{
 "cells": [
  {
   "cell_type": "code",
   "execution_count": 7,
   "metadata": {},
   "outputs": [
    {
     "name": "stdout",
     "output_type": "stream",
     "text": [
      "The sql extension is already loaded. To reload it, use:\n",
      "  %reload_ext sql\n"
     ]
    }
   ],
   "source": [
    "%load_ext sql"
   ]
  },
  {
   "cell_type": "code",
   "execution_count": 8,
   "metadata": {},
   "outputs": [
    {
     "data": {
      "text/plain": [
       "'Connected: appdev@appdev'"
      ]
     },
     "execution_count": 8,
     "metadata": {},
     "output_type": "execute_result"
    }
   ],
   "source": [
    "%sql postgresql://appdev@data/appdev\n"
   ]
  },
  {
   "cell_type": "code",
   "execution_count": 9,
   "metadata": {},
   "outputs": [
    {
     "name": "stdout",
     "output_type": "stream",
     "text": [
      "Done.\n"
     ]
    },
    {
     "data": {
      "text/plain": [
       "[]"
      ]
     },
     "execution_count": 9,
     "metadata": {},
     "output_type": "execute_result"
    }
   ],
   "source": [
    "%sql CREATE TABLE endorsement(source_node_id BIGINT, target_node_id BIGINT);"
   ]
  },
  {
   "cell_type": "code",
   "execution_count": 10,
   "metadata": {},
   "outputs": [
    {
     "name": "stdout",
     "output_type": "stream",
     "text": [
      "Done.\n"
     ]
    },
    {
     "data": {
      "text/plain": [
       "[]"
      ]
     },
     "execution_count": 10,
     "metadata": {},
     "output_type": "execute_result"
    }
   ],
   "source": [
    "%sql CREATE TABLE person(id BIGINT, name VARCHAR, job VARCHAR, birthday VARCHAR);\n"
   ]
  },
  {
   "cell_type": "code",
   "execution_count": 13,
   "metadata": {},
   "outputs": [
    {
     "name": "stdout",
     "output_type": "stream",
     "text": [
      "Done.\n"
     ]
    },
    {
     "data": {
      "text/plain": [
       "[]"
      ]
     },
     "execution_count": 13,
     "metadata": {},
     "output_type": "execute_result"
    }
   ],
   "source": [
    "%sql CREATE UNIQUE INDEX index_id ON person (id);"
   ]
  },
  {
   "cell_type": "code",
   "execution_count": 15,
   "metadata": {},
   "outputs": [
    {
     "name": "stdout",
     "output_type": "stream",
     "text": [
      "Done.\n"
     ]
    },
    {
     "data": {
      "text/plain": [
       "[]"
      ]
     },
     "execution_count": 15,
     "metadata": {},
     "output_type": "execute_result"
    }
   ],
   "source": [
    "%sql CREATE INDEX index_name ON person (name);"
   ]
  },
  {
   "cell_type": "code",
   "execution_count": null,
   "metadata": {},
   "outputs": [],
   "source": [
    "%sql CREATE INDEX index_source ON endorsement (source_node_id, target_node_id);"
   ]
  },
  {
   "cell_type": "code",
   "execution_count": 31,
   "metadata": {},
   "outputs": [
    {
     "name": "stdout",
     "output_type": "stream",
     "text": [
      "10 rows affected.\n"
     ]
    },
    {
     "data": {
      "text/html": [
       "<table>\n",
       "    <tr>\n",
       "        <th>source_node_id</th>\n",
       "        <th>target_node_id</th>\n",
       "    </tr>\n",
       "    <tr>\n",
       "        <td>0</td>\n",
       "        <td>51594</td>\n",
       "    </tr>\n",
       "    <tr>\n",
       "        <td>0</td>\n",
       "        <td>9691</td>\n",
       "    </tr>\n",
       "    <tr>\n",
       "        <td>0</td>\n",
       "        <td>332576</td>\n",
       "    </tr>\n",
       "    <tr>\n",
       "        <td>0</td>\n",
       "        <td>318525</td>\n",
       "    </tr>\n",
       "    <tr>\n",
       "        <td>0</td>\n",
       "        <td>69105</td>\n",
       "    </tr>\n",
       "    <tr>\n",
       "        <td>0</td>\n",
       "        <td>223395</td>\n",
       "    </tr>\n",
       "    <tr>\n",
       "        <td>0</td>\n",
       "        <td>369628</td>\n",
       "    </tr>\n",
       "    <tr>\n",
       "        <td>0</td>\n",
       "        <td>19675</td>\n",
       "    </tr>\n",
       "    <tr>\n",
       "        <td>0</td>\n",
       "        <td>439139</td>\n",
       "    </tr>\n",
       "    <tr>\n",
       "        <td>0</td>\n",
       "        <td>14266</td>\n",
       "    </tr>\n",
       "</table>"
      ],
      "text/plain": [
       "[(0, 51594),\n",
       " (0, 9691),\n",
       " (0, 332576),\n",
       " (0, 318525),\n",
       " (0, 69105),\n",
       " (0, 223395),\n",
       " (0, 369628),\n",
       " (0, 19675),\n",
       " (0, 439139),\n",
       " (0, 14266)]"
      ]
     },
     "execution_count": 31,
     "metadata": {},
     "output_type": "execute_result"
    }
   ],
   "source": [
    "%sql select * from endorsement limit 10;"
   ]
  },
  {
   "cell_type": "code",
   "execution_count": 30,
   "metadata": {},
   "outputs": [
    {
     "name": "stdout",
     "output_type": "stream",
     "text": [
      "10 rows affected.\n"
     ]
    },
    {
     "data": {
      "text/html": [
       "<table>\n",
       "    <tr>\n",
       "        <th>id</th>\n",
       "        <th>name</th>\n",
       "        <th>job</th>\n",
       "        <th>birthday</th>\n",
       "    </tr>\n",
       "    <tr>\n",
       "        <td>499999</td>\n",
       "        <td>Adan Stgermain</td>\n",
       "        <td>Pickler Helper, Continuous Pickling Line</td>\n",
       "        <td>1966-11-10</td>\n",
       "    </tr>\n",
       "    <tr>\n",
       "        <td>499998</td>\n",
       "        <td>Bert Mulrooney</td>\n",
       "        <td>Casket Coverer</td>\n",
       "        <td>1989-12-10</td>\n",
       "    </tr>\n",
       "    <tr>\n",
       "        <td>499997</td>\n",
       "        <td>Cleveland Terron</td>\n",
       "        <td>Pick-Up Operator</td>\n",
       "        <td>1971-11-16</td>\n",
       "    </tr>\n",
       "    <tr>\n",
       "        <td>499996</td>\n",
       "        <td>Elden Deakin</td>\n",
       "        <td>Broom Bundler</td>\n",
       "        <td>1978-04-29</td>\n",
       "    </tr>\n",
       "    <tr>\n",
       "        <td>499995</td>\n",
       "        <td>Claude Hobkirk</td>\n",
       "        <td>Cytologist</td>\n",
       "        <td>1948-07-08</td>\n",
       "    </tr>\n",
       "    <tr>\n",
       "        <td>499994</td>\n",
       "        <td>Man Calvelo</td>\n",
       "        <td>Appliance Assembler, Line</td>\n",
       "        <td>1960-05-31</td>\n",
       "    </tr>\n",
       "    <tr>\n",
       "        <td>499993</td>\n",
       "        <td>Rory Haws</td>\n",
       "        <td>Lease-Out Worker</td>\n",
       "        <td>1955-11-27</td>\n",
       "    </tr>\n",
       "    <tr>\n",
       "        <td>499992</td>\n",
       "        <td>Moshe Swepson</td>\n",
       "        <td>Boring-Machine Operator, Production</td>\n",
       "        <td>1985-04-29</td>\n",
       "    </tr>\n",
       "    <tr>\n",
       "        <td>499991</td>\n",
       "        <td>Pasquale Chiodini</td>\n",
       "        <td>Bin Filler</td>\n",
       "        <td>1985-09-05</td>\n",
       "    </tr>\n",
       "    <tr>\n",
       "        <td>499990</td>\n",
       "        <td>Pasquale Keams</td>\n",
       "        <td>Laborer, Boot And Shoe</td>\n",
       "        <td>1959-01-23</td>\n",
       "    </tr>\n",
       "</table>"
      ],
      "text/plain": [
       "[(499999, 'Adan Stgermain', 'Pickler Helper, Continuous Pickling Line', '1966-11-10'),\n",
       " (499998, 'Bert Mulrooney', 'Casket Coverer', '1989-12-10'),\n",
       " (499997, 'Cleveland Terron', 'Pick-Up Operator', '1971-11-16'),\n",
       " (499996, 'Elden Deakin', 'Broom Bundler', '1978-04-29'),\n",
       " (499995, 'Claude Hobkirk', 'Cytologist', '1948-07-08'),\n",
       " (499994, 'Man Calvelo', 'Appliance Assembler, Line', '1960-05-31'),\n",
       " (499993, 'Rory Haws', 'Lease-Out Worker', '1955-11-27'),\n",
       " (499992, 'Moshe Swepson', 'Boring-Machine Operator, Production', '1985-04-29'),\n",
       " (499991, 'Pasquale Chiodini', 'Bin Filler', '1985-09-05'),\n",
       " (499990, 'Pasquale Keams', 'Laborer, Boot And Shoe', '1959-01-23')]"
      ]
     },
     "execution_count": 30,
     "metadata": {},
     "output_type": "execute_result"
    }
   ],
   "source": [
    "%sql select * from person ORDER BY id DESC LIMIT 10;\n"
   ]
  },
  {
   "cell_type": "code",
   "execution_count": 22,
   "metadata": {},
   "outputs": [
    {
     "name": "stdout",
     "output_type": "stream",
     "text": [
      "1 rows affected.\n"
     ]
    },
    {
     "data": {
      "text/html": [
       "<table>\n",
       "    <tr>\n",
       "        <th>count</th>\n",
       "    </tr>\n",
       "    <tr>\n",
       "        <td>499997</td>\n",
       "    </tr>\n",
       "</table>"
      ],
      "text/plain": [
       "[(499997,)]"
      ]
     },
     "execution_count": 22,
     "metadata": {},
     "output_type": "execute_result"
    }
   ],
   "source": [
    "%sql SELECT count(*) FROM chinook.person WHERE id IN (SELECT target_node_id FROM chinook.endorsement WHERE source_node_id IN (SELECT target_node_id FROM chinook.endorsement WHERE source_node_id IN (SELECT target_node_id FROM chinook.endorsement WHERE source_node_id IN (SELECT target_node_id FROM chinook.endorsement WHERE source_node_id IN (SELECT target_node_id FROM chinook.endorsement e JOIN chinook.person p ON e.source_node_id = p.id WHERE p.name = 'Jeanie Mountcastle')))));\n"
   ]
  }
 ],
 "metadata": {
  "kernelspec": {
   "display_name": "Python 3",
   "language": "python",
   "name": "python3"
  },
  "language_info": {
   "codemirror_mode": {
    "name": "ipython",
    "version": 3
   },
   "file_extension": ".py",
   "mimetype": "text/x-python",
   "name": "python",
   "nbconvert_exporter": "python",
   "pygments_lexer": "ipython3",
   "version": "3.6.3"
  }
 },
 "nbformat": 4,
 "nbformat_minor": 2
}
